{
  "nbformat": 4,
  "nbformat_minor": 0,
  "metadata": {
    "colab": {
      "name": "Apple_Stock_Prediction_LSTM.ipynb",
      "provenance": [],
      "collapsed_sections": [],
      "authorship_tag": "ABX9TyOIfslokbmYFBoReX9/tsqR",
      "include_colab_link": true
    },
    "kernelspec": {
      "name": "python3",
      "display_name": "Python 3"
    },
    "language_info": {
      "name": "python"
    }
  },
  "cells": [
    {
      "cell_type": "markdown",
      "metadata": {
        "id": "view-in-github",
        "colab_type": "text"
      },
      "source": [
        "<a href=\"https://colab.research.google.com/github/JohnLucas22/Stock_Price_Prediction_Model-Python-/blob/main/Apple_Stock_Prediction_LSTM.ipynb\" target=\"_parent\"><img src=\"https://colab.research.google.com/assets/colab-badge.svg\" alt=\"Open In Colab\"/></a>"
      ]
    },
    {
      "cell_type": "code",
      "metadata": {
        "id": "zaUEksFvLV9n"
      },
      "source": [
        "#Description: This program uses an artificial recurrent nuearl network called Long Short Term Memory\n",
        "#             to predict the closing stock price of a corporation (Apple Inc.) using the past 60 day stock price."
      ],
      "execution_count": null,
      "outputs": []
    },
    {
      "cell_type": "code",
      "metadata": {
        "id": "S8LuHHi-mcSk"
      },
      "source": [
        "!pip install yfinance"
      ],
      "execution_count": null,
      "outputs": []
    },
    {
      "cell_type": "code",
      "metadata": {
        "id": "2DRkJB6hMTmg"
      },
      "source": [
        "# Import Libraries\n",
        "import math\n",
        "import pandas_datareader as web\n",
        "import numpy as np\n",
        "import yfinance as yf\n",
        "import pandas as pd\n",
        "from sklearn.preprocessing import MinMaxScaler\n",
        "from keras.models import Sequential\n",
        "from keras.layers import Dense, LSTM\n",
        "import matplotlib.pyplot as plt\n",
        "plt.style.use('fivethirtyeight')\n",
        "print('Complete')\n"
      ],
      "execution_count": null,
      "outputs": []
    },
    {
      "cell_type": "code",
      "metadata": {
        "colab": {
          "base_uri": "https://localhost:8080/",
          "height": 450
        },
        "id": "zGItE3-nNIVd",
        "outputId": "179ed4d8-67d3-489d-88ea-946d729f3f85"
      },
      "source": [
        "#get the stock quote\n",
        "df = yf.download('AAPL',\n",
        "                      start='2012-01-01',\n",
        "                      end='2021-06-12',\n",
        "                      progress=False,\n",
        ")\n",
        "df.head()\n",
        "#show the data\n",
        "df"
      ],
      "execution_count": 13,
      "outputs": [
        {
          "output_type": "execute_result",
          "data": {
            "text/html": [
              "<div>\n",
              "<style scoped>\n",
              "    .dataframe tbody tr th:only-of-type {\n",
              "        vertical-align: middle;\n",
              "    }\n",
              "\n",
              "    .dataframe tbody tr th {\n",
              "        vertical-align: top;\n",
              "    }\n",
              "\n",
              "    .dataframe thead th {\n",
              "        text-align: right;\n",
              "    }\n",
              "</style>\n",
              "<table border=\"1\" class=\"dataframe\">\n",
              "  <thead>\n",
              "    <tr style=\"text-align: right;\">\n",
              "      <th></th>\n",
              "      <th>Open</th>\n",
              "      <th>High</th>\n",
              "      <th>Low</th>\n",
              "      <th>Close</th>\n",
              "      <th>Adj Close</th>\n",
              "      <th>Volume</th>\n",
              "    </tr>\n",
              "    <tr>\n",
              "      <th>Date</th>\n",
              "      <th></th>\n",
              "      <th></th>\n",
              "      <th></th>\n",
              "      <th></th>\n",
              "      <th></th>\n",
              "      <th></th>\n",
              "    </tr>\n",
              "  </thead>\n",
              "  <tbody>\n",
              "    <tr>\n",
              "      <th>2012-01-03</th>\n",
              "      <td>14.621429</td>\n",
              "      <td>14.732143</td>\n",
              "      <td>14.607143</td>\n",
              "      <td>14.686786</td>\n",
              "      <td>12.610313</td>\n",
              "      <td>302220800</td>\n",
              "    </tr>\n",
              "    <tr>\n",
              "      <th>2012-01-04</th>\n",
              "      <td>14.642857</td>\n",
              "      <td>14.810000</td>\n",
              "      <td>14.617143</td>\n",
              "      <td>14.765714</td>\n",
              "      <td>12.678083</td>\n",
              "      <td>260022000</td>\n",
              "    </tr>\n",
              "    <tr>\n",
              "      <th>2012-01-05</th>\n",
              "      <td>14.819643</td>\n",
              "      <td>14.948214</td>\n",
              "      <td>14.738214</td>\n",
              "      <td>14.929643</td>\n",
              "      <td>12.818840</td>\n",
              "      <td>271269600</td>\n",
              "    </tr>\n",
              "    <tr>\n",
              "      <th>2012-01-06</th>\n",
              "      <td>14.991786</td>\n",
              "      <td>15.098214</td>\n",
              "      <td>14.972143</td>\n",
              "      <td>15.085714</td>\n",
              "      <td>12.952842</td>\n",
              "      <td>318292800</td>\n",
              "    </tr>\n",
              "    <tr>\n",
              "      <th>2012-01-09</th>\n",
              "      <td>15.196429</td>\n",
              "      <td>15.276786</td>\n",
              "      <td>15.048214</td>\n",
              "      <td>15.061786</td>\n",
              "      <td>12.932296</td>\n",
              "      <td>394024400</td>\n",
              "    </tr>\n",
              "    <tr>\n",
              "      <th>...</th>\n",
              "      <td>...</td>\n",
              "      <td>...</td>\n",
              "      <td>...</td>\n",
              "      <td>...</td>\n",
              "      <td>...</td>\n",
              "      <td>...</td>\n",
              "    </tr>\n",
              "    <tr>\n",
              "      <th>2021-06-07</th>\n",
              "      <td>126.169998</td>\n",
              "      <td>126.320000</td>\n",
              "      <td>124.830002</td>\n",
              "      <td>125.900002</td>\n",
              "      <td>125.711655</td>\n",
              "      <td>71057600</td>\n",
              "    </tr>\n",
              "    <tr>\n",
              "      <th>2021-06-08</th>\n",
              "      <td>126.599998</td>\n",
              "      <td>128.460007</td>\n",
              "      <td>126.209999</td>\n",
              "      <td>126.739998</td>\n",
              "      <td>126.550392</td>\n",
              "      <td>74403800</td>\n",
              "    </tr>\n",
              "    <tr>\n",
              "      <th>2021-06-09</th>\n",
              "      <td>127.209999</td>\n",
              "      <td>127.750000</td>\n",
              "      <td>126.519997</td>\n",
              "      <td>127.129997</td>\n",
              "      <td>126.939812</td>\n",
              "      <td>56877900</td>\n",
              "    </tr>\n",
              "    <tr>\n",
              "      <th>2021-06-10</th>\n",
              "      <td>127.019997</td>\n",
              "      <td>128.190002</td>\n",
              "      <td>125.940002</td>\n",
              "      <td>126.110001</td>\n",
              "      <td>125.921341</td>\n",
              "      <td>71186400</td>\n",
              "    </tr>\n",
              "    <tr>\n",
              "      <th>2021-06-11</th>\n",
              "      <td>126.529999</td>\n",
              "      <td>127.440002</td>\n",
              "      <td>126.099998</td>\n",
              "      <td>127.349998</td>\n",
              "      <td>127.159477</td>\n",
              "      <td>53522400</td>\n",
              "    </tr>\n",
              "  </tbody>\n",
              "</table>\n",
              "<p>2376 rows × 6 columns</p>\n",
              "</div>"
            ],
            "text/plain": [
              "                  Open        High  ...   Adj Close     Volume\n",
              "Date                                ...                       \n",
              "2012-01-03   14.621429   14.732143  ...   12.610313  302220800\n",
              "2012-01-04   14.642857   14.810000  ...   12.678083  260022000\n",
              "2012-01-05   14.819643   14.948214  ...   12.818840  271269600\n",
              "2012-01-06   14.991786   15.098214  ...   12.952842  318292800\n",
              "2012-01-09   15.196429   15.276786  ...   12.932296  394024400\n",
              "...                ...         ...  ...         ...        ...\n",
              "2021-06-07  126.169998  126.320000  ...  125.711655   71057600\n",
              "2021-06-08  126.599998  128.460007  ...  126.550392   74403800\n",
              "2021-06-09  127.209999  127.750000  ...  126.939812   56877900\n",
              "2021-06-10  127.019997  128.190002  ...  125.921341   71186400\n",
              "2021-06-11  126.529999  127.440002  ...  127.159477   53522400\n",
              "\n",
              "[2376 rows x 6 columns]"
            ]
          },
          "metadata": {},
          "execution_count": 13
        }
      ]
    },
    {
      "cell_type": "code",
      "metadata": {
        "id": "GlmYmKjeBDiv",
        "colab": {
          "base_uri": "https://localhost:8080/"
        },
        "outputId": "7859cae6-0125-4c4e-d5e4-e36356c396fc"
      },
      "source": [
        "# Get the number of rows and columns in the data set\n",
        "df.shape"
      ],
      "execution_count": 14,
      "outputs": [
        {
          "output_type": "execute_result",
          "data": {
            "text/plain": [
              "(2376, 6)"
            ]
          },
          "metadata": {},
          "execution_count": 14
        }
      ]
    },
    {
      "cell_type": "code",
      "metadata": {
        "colab": {
          "base_uri": "https://localhost:8080/",
          "height": 457
        },
        "id": "Ag3R31P7nOyr",
        "outputId": "7d0f64a5-44d0-4a1a-f170-828220c989be"
      },
      "source": [
        "# Visualize the closing price history\n",
        "plt.figure(figsize=(16,8))\n",
        "plt.title('Close Price History')\n",
        "plt.plot(df['Close'])\n",
        "plt.xlabel('Date', fontsize=18)\n",
        "plt.ylabel('Close Price USD ($)', fontsize=18)\n",
        "plt.show"
      ],
      "execution_count": 17,
      "outputs": [
        {
          "output_type": "execute_result",
          "data": {
            "text/plain": [
              "<function matplotlib.pyplot.show>"
            ]
          },
          "metadata": {},
          "execution_count": 17
        },
        {
          "output_type": "display_data",
          "data": {
            "image/png": "[encoded data removed]",
            "text/plain": [
              "<Figure size 1152x576 with 1 Axes>"
            ]
          },
          "metadata": {}
        }
      ]
    },
    {
      "cell_type": "code",
      "metadata": {
        "colab": {
          "base_uri": "https://localhost:8080/"
        },
        "id": "5n94RqIToqFw",
        "outputId": "aa90a821-6730-4f4a-981f-98fdab0c6559"
      },
      "source": [
        "#create a new df with only the close column\n",
        "data = df.filter(['Close'])\n",
        "#convert the df to a numpy array\n",
        "dataset = data.values\n",
        "#get the number of rows to train the model on\n",
        "training_data_len = math.ceil( len(dataset) * .8)\n",
        "\n",
        "training_data_len"
      ],
      "execution_count": 18,
      "outputs": [
        {
          "output_type": "execute_result",
          "data": {
            "text/plain": [
              "1901"
            ]
          },
          "metadata": {},
          "execution_count": 18
        }
      ]
    },
    {
      "cell_type": "code",
      "metadata": {
        "colab": {
          "base_uri": "https://localhost:8080/"
        },
        "id": "sv0A7RKgpSy8",
        "outputId": "f8859ee2-4aac-4c2c-9372-2efbe00ba387"
      },
      "source": [
        "#Scale the data\n",
        "scaler = MinMaxScaler(feature_range=(0,1))\n",
        "scaled_data = scaler.fit_transform(dataset)\n",
        "\n",
        "scaled_data"
      ],
      "execution_count": 32,
      "outputs": [
        {
          "output_type": "execute_result",
          "data": {
            "text/plain": [
              "array([[0.00572147],\n",
              "       [0.00633231],\n",
              "       [0.00760099],\n",
              "       ...,\n",
              "       [0.87594075],\n",
              "       [0.8680468 ],\n",
              "       [0.87764338]])"
            ]
          },
          "metadata": {},
          "execution_count": 32
        }
      ]
    },
    {
      "cell_type": "code",
      "metadata": {
        "colab": {
          "base_uri": "https://localhost:8080/"
        },
        "id": "w-ROdzQiqI-F",
        "outputId": "50c32408-8a19-42d7-de7b-43b1d66df9a9"
      },
      "source": [
        "#Create the training data set \n",
        "#create the scaled training data set \n",
        "train_data = scaled_date[0:training_data_len , :]\n",
        "#split the data into x_train and y_train data sets\n",
        "x_train = []\n",
        "y_train = []\n",
        "\n",
        "for i in range(60, len(train_data)): \n",
        "  x_train.append(train_data[i-60:i, 0])\n",
        "  y_train.append(train_data[i, 0])\n",
        "  if i<= 61:\n",
        "    print(x_train)\n",
        "    print(y_train)\n",
        "    print()"
      ],
      "execution_count": 21,
      "outputs": [
        {
          "output_type": "stream",
          "name": "stdout",
          "text": [
            "[array([0.00572147, 0.00633231, 0.00760099, 0.00880885, 0.00862367,\n",
            "       0.00904103, 0.00885031, 0.00852969, 0.00809297, 0.00944457,\n",
            "       0.0106635 , 0.01028759, 0.00822841, 0.01019361, 0.00825882,\n",
            "       0.01551431, 0.01495322, 0.01568568, 0.01726944, 0.01822855,\n",
            "       0.01814839, 0.01785265, 0.01911303, 0.02029878, 0.02164209,\n",
            "       0.02381183, 0.02836966, 0.02843875, 0.03097611, 0.0328722 ,\n",
            "       0.02961346, 0.03086831, 0.03084343, 0.034362  , 0.03386171,\n",
            "       0.03478765, 0.03645157, 0.03737752, 0.04004478, 0.04198786,\n",
            "       0.04254895, 0.0427452 , 0.03942288, 0.03862131, 0.03874017,\n",
            "       0.04186349, 0.04274244, 0.04463025, 0.04908028, 0.05501734,\n",
            "       0.05390621, 0.05390897, 0.05820147, 0.05954478, 0.05858842,\n",
            "       0.05771501, 0.05680565, 0.05982669, 0.0618997 , 0.06276759])]\n",
            "[0.06062272301844436]\n",
            "\n",
            "[array([0.00572147, 0.00633231, 0.00760099, 0.00880885, 0.00862367,\n",
            "       0.00904103, 0.00885031, 0.00852969, 0.00809297, 0.00944457,\n",
            "       0.0106635 , 0.01028759, 0.00822841, 0.01019361, 0.00825882,\n",
            "       0.01551431, 0.01495322, 0.01568568, 0.01726944, 0.01822855,\n",
            "       0.01814839, 0.01785265, 0.01911303, 0.02029878, 0.02164209,\n",
            "       0.02381183, 0.02836966, 0.02843875, 0.03097611, 0.0328722 ,\n",
            "       0.02961346, 0.03086831, 0.03084343, 0.034362  , 0.03386171,\n",
            "       0.03478765, 0.03645157, 0.03737752, 0.04004478, 0.04198786,\n",
            "       0.04254895, 0.0427452 , 0.03942288, 0.03862131, 0.03874017,\n",
            "       0.04186349, 0.04274244, 0.04463025, 0.04908028, 0.05501734,\n",
            "       0.05390621, 0.05390897, 0.05820147, 0.05954478, 0.05858842,\n",
            "       0.05771501, 0.05680565, 0.05982669, 0.0618997 , 0.06276759]), array([0.00633231, 0.00760099, 0.00880885, 0.00862367, 0.00904103,\n",
            "       0.00885031, 0.00852969, 0.00809297, 0.00944457, 0.0106635 ,\n",
            "       0.01028759, 0.00822841, 0.01019361, 0.00825882, 0.01551431,\n",
            "       0.01495322, 0.01568568, 0.01726944, 0.01822855, 0.01814839,\n",
            "       0.01785265, 0.01911303, 0.02029878, 0.02164209, 0.02381183,\n",
            "       0.02836966, 0.02843875, 0.03097611, 0.0328722 , 0.02961346,\n",
            "       0.03086831, 0.03084343, 0.034362  , 0.03386171, 0.03478765,\n",
            "       0.03645157, 0.03737752, 0.04004478, 0.04198786, 0.04254895,\n",
            "       0.0427452 , 0.03942288, 0.03862131, 0.03874017, 0.04186349,\n",
            "       0.04274244, 0.04463025, 0.04908028, 0.05501734, 0.05390621,\n",
            "       0.05390897, 0.05820147, 0.05954478, 0.05858842, 0.05771501,\n",
            "       0.05680565, 0.05982669, 0.0618997 , 0.06276759, 0.06062272])]\n",
            "[0.06062272301844436, 0.05777304791904707]\n",
            "\n"
          ]
        }
      ]
    },
    {
      "cell_type": "code",
      "metadata": {
        "id": "MevadPy4t6Sk"
      },
      "source": [
        "#Convert the x_train and y_train to numpy arrays \n",
        "x_train, y_train = np.array(x_train), np.array(y_train)"
      ],
      "execution_count": 22,
      "outputs": []
    },
    {
      "cell_type": "code",
      "metadata": {
        "colab": {
          "base_uri": "https://localhost:8080/"
        },
        "id": "YPBGcpfeuSs9",
        "outputId": "5e94b0ac-11c0-4452-c0bb-081211b1f571"
      },
      "source": [
        "#reshape the data \n",
        "x_train= np.reshape(x_train, (x_train.shape[0], x_train.shape[1], 1))\n",
        "x_train.shape"
      ],
      "execution_count": 24,
      "outputs": [
        {
          "output_type": "execute_result",
          "data": {
            "text/plain": [
              "(1841, 60, 1)"
            ]
          },
          "metadata": {},
          "execution_count": 24
        }
      ]
    },
    {
      "cell_type": "code",
      "metadata": {
        "id": "Gr6m85jduvHJ"
      },
      "source": [
        "#buidling the lstm model\n",
        "model = Sequential()\n",
        "model.add(LSTM(50, return_sequences=True, input_shape = (x_train.shape[1], 1)))\n",
        "model.add(LSTM(50, return_sequences=False))\n",
        "model.add(Dense(25))\n",
        "model.add(Dense(1))"
      ],
      "execution_count": 28,
      "outputs": []
    },
    {
      "cell_type": "code",
      "metadata": {
        "id": "kn3FHcrgvhcD"
      },
      "source": [
        "#complie the model \n",
        "model.compile(optimizer='adam', loss='mean_squared_error')"
      ],
      "execution_count": 29,
      "outputs": []
    },
    {
      "cell_type": "code",
      "metadata": {
        "colab": {
          "base_uri": "https://localhost:8080/"
        },
        "id": "AkdT8ZDHvs8w",
        "outputId": "0ba0c54d-0378-4a0f-a758-c208ce6289f9"
      },
      "source": [
        "#Train the model\n",
        "model.fit(x_train, y_train, batch_size=1, epochs=1)"
      ],
      "execution_count": 30,
      "outputs": [
        {
          "output_type": "stream",
          "name": "stdout",
          "text": [
            "1841/1841 [==============================] - 57s 29ms/step - loss: 2.2472e-04\n"
          ]
        },
        {
          "output_type": "execute_result",
          "data": {
            "text/plain": [
              "<keras.callbacks.History at 0x7efd8d638ed0>"
            ]
          },
          "metadata": {},
          "execution_count": 30
        }
      ]
    },
    {
      "cell_type": "code",
      "metadata": {
        "id": "uwCJssW_wRj7"
      },
      "source": [
        "#create the testing data set \n",
        "#create a new array containing scaled values from index 1841 to 2003\n",
        "test_data = scaled_data[training_data_len - 60: , :]\n",
        "#Create the data sets x_test and y_test\n",
        "x_test = []\n",
        "y_test = dataset[training_data_len:, :]\n",
        "for i in range(60, len(test_data)):\n",
        "  x_test.append(test_data[i-60:i, 0])\n"
      ],
      "execution_count": 33,
      "outputs": []
    },
    {
      "cell_type": "code",
      "metadata": {
        "id": "YbUPTBgtyMqo"
      },
      "source": [
        "#convert the data to a numpy array\n",
        "x_test = np.array(x_test)"
      ],
      "execution_count": 34,
      "outputs": []
    },
    {
      "cell_type": "code",
      "metadata": {
        "id": "XlkSfNo3yUcl"
      },
      "source": [
        "#reshape the data \n",
        "x_test = np.reshape(x_test, (x_test.shape[0], x_test.shape[1], 1))"
      ],
      "execution_count": 35,
      "outputs": []
    },
    {
      "cell_type": "code",
      "metadata": {
        "id": "KsiGjzTfyuC2"
      },
      "source": [
        "#get the models predicted price values\n",
        "predictions = model.predict(x_test)\n",
        "predictions = scaler.inverse_transform(predictions)"
      ],
      "execution_count": 36,
      "outputs": []
    },
    {
      "cell_type": "code",
      "metadata": {
        "colab": {
          "base_uri": "https://localhost:8080/"
        },
        "id": "c7134u3HzNfm",
        "outputId": "581d94ce-63ef-4768-a1c1-a2cb51f35ad3"
      },
      "source": [
        "#get the root mean squared error RMSE\n",
        "rmse = np.sqrt( np.mean( predictions - y_test )**2)\n",
        "rmse"
      ],
      "execution_count": 39,
      "outputs": [
        {
          "output_type": "execute_result",
          "data": {
            "text/plain": [
              "4.683322529039885"
            ]
          },
          "metadata": {},
          "execution_count": 39
        }
      ]
    },
    {
      "cell_type": "code",
      "metadata": {
        "colab": {
          "base_uri": "https://localhost:8080/",
          "height": 562
        },
        "id": "7YQaM0R_z1FT",
        "outputId": "cdfdcfd0-792b-4425-f864-bfb851fa85fb"
      },
      "source": [
        "#Plot the data \n",
        "train = data[:training_data_len]\n",
        "valid = data[training_data_len:]\n",
        "valid['predictions'] = predictions\n",
        "#visualize the data \n",
        "plt.figure(figsize=(16,8))\n",
        "plt.title('Model')\n",
        "plt.xlabel('Date', fontsize=18)\n",
        "plt.ylabel('Close Price USD ($)', fontsize=18)\n",
        "plt.plot(train['Close'])\n",
        "plt.plot(valid[['Close', 'predictions']])\n",
        "plt.legend(['Train', 'Val', 'Predictions'], loc='lower right')\n",
        "\n",
        "plt.show()\n"
      ],
      "execution_count": 49,
      "outputs": [
        {
          "output_type": "stream",
          "name": "stderr",
          "text": [
            "/usr/local/lib/python3.7/dist-packages/ipykernel_launcher.py:4: SettingWithCopyWarning: \n",
            "A value is trying to be set on a copy of a slice from a DataFrame.\n",
            "Try using .loc[row_indexer,col_indexer] = value instead\n",
            "\n",
            "See the caveats in the documentation: https://pandas.pydata.org/pandas-docs/stable/user_guide/indexing.html#returning-a-view-versus-a-copy\n",
            "  after removing the cwd from sys.path.\n"
          ]
        },
        {
          "output_type": "display_data",
          "data": {
            "image/png": "[encoded data removed]",
            "text/plain": [
              "<Figure size 1152x576 with 1 Axes>"
            ]
          },
          "metadata": {}
        }
      ]
    },
    {
      "cell_type": "code",
      "metadata": {
        "colab": {
          "base_uri": "https://localhost:8080/",
          "height": 450
        },
        "id": "wFoQlz5U8wvQ",
        "outputId": "11ff1fe9-2b8e-4497-cab4-9727ff66d388"
      },
      "source": [
        "#showing the valid(Actual) and predicted prices\n",
        "valid"
      ],
      "execution_count": 52,
      "outputs": [
        {
          "output_type": "execute_result",
          "data": {
            "text/html": [
              "<div>\n",
              "<style scoped>\n",
              "    .dataframe tbody tr th:only-of-type {\n",
              "        vertical-align: middle;\n",
              "    }\n",
              "\n",
              "    .dataframe tbody tr th {\n",
              "        vertical-align: top;\n",
              "    }\n",
              "\n",
              "    .dataframe thead th {\n",
              "        text-align: right;\n",
              "    }\n",
              "</style>\n",
              "<table border=\"1\" class=\"dataframe\">\n",
              "  <thead>\n",
              "    <tr style=\"text-align: right;\">\n",
              "      <th></th>\n",
              "      <th>Close</th>\n",
              "      <th>predictions</th>\n",
              "    </tr>\n",
              "    <tr>\n",
              "      <th>Date</th>\n",
              "      <th></th>\n",
              "      <th></th>\n",
              "    </tr>\n",
              "  </thead>\n",
              "  <tbody>\n",
              "    <tr>\n",
              "      <th>2019-07-25</th>\n",
              "      <td>51.755001</td>\n",
              "      <td>50.438366</td>\n",
              "    </tr>\n",
              "    <tr>\n",
              "      <th>2019-07-26</th>\n",
              "      <td>51.935001</td>\n",
              "      <td>50.591335</td>\n",
              "    </tr>\n",
              "    <tr>\n",
              "      <th>2019-07-29</th>\n",
              "      <td>52.419998</td>\n",
              "      <td>50.702042</td>\n",
              "    </tr>\n",
              "    <tr>\n",
              "      <th>2019-07-30</th>\n",
              "      <td>52.195000</td>\n",
              "      <td>50.845371</td>\n",
              "    </tr>\n",
              "    <tr>\n",
              "      <th>2019-07-31</th>\n",
              "      <td>53.259998</td>\n",
              "      <td>50.946911</td>\n",
              "    </tr>\n",
              "    <tr>\n",
              "      <th>...</th>\n",
              "      <td>...</td>\n",
              "      <td>...</td>\n",
              "    </tr>\n",
              "    <tr>\n",
              "      <th>2021-06-07</th>\n",
              "      <td>125.900002</td>\n",
              "      <td>117.821808</td>\n",
              "    </tr>\n",
              "    <tr>\n",
              "      <th>2021-06-08</th>\n",
              "      <td>126.739998</td>\n",
              "      <td>117.933937</td>\n",
              "    </tr>\n",
              "    <tr>\n",
              "      <th>2021-06-09</th>\n",
              "      <td>127.129997</td>\n",
              "      <td>118.291626</td>\n",
              "    </tr>\n",
              "    <tr>\n",
              "      <th>2021-06-10</th>\n",
              "      <td>126.110001</td>\n",
              "      <td>118.782204</td>\n",
              "    </tr>\n",
              "    <tr>\n",
              "      <th>2021-06-11</th>\n",
              "      <td>127.349998</td>\n",
              "      <td>119.082321</td>\n",
              "    </tr>\n",
              "  </tbody>\n",
              "</table>\n",
              "<p>475 rows × 2 columns</p>\n",
              "</div>"
            ],
            "text/plain": [
              "                 Close  predictions\n",
              "Date                               \n",
              "2019-07-25   51.755001    50.438366\n",
              "2019-07-26   51.935001    50.591335\n",
              "2019-07-29   52.419998    50.702042\n",
              "2019-07-30   52.195000    50.845371\n",
              "2019-07-31   53.259998    50.946911\n",
              "...                ...          ...\n",
              "2021-06-07  125.900002   117.821808\n",
              "2021-06-08  126.739998   117.933937\n",
              "2021-06-09  127.129997   118.291626\n",
              "2021-06-10  126.110001   118.782204\n",
              "2021-06-11  127.349998   119.082321\n",
              "\n",
              "[475 rows x 2 columns]"
            ]
          },
          "metadata": {},
          "execution_count": 52
        }
      ]
    },
    {
      "cell_type": "code",
      "metadata": {
        "colab": {
          "base_uri": "https://localhost:8080/",
          "height": 129
        },
        "id": "Qwg-H3gZ9BDn",
        "outputId": "9667f665-b66d-41f0-9431-0bf409c6188b"
      },
      "source": [
        "#get the quote \n",
        "apple_quote = yf.download('AAPL',\n",
        "                      start='2012-01-01',\n",
        "                      end='2021-06-12',\n",
        "                      progress=False,\n",
        "#create a new data frame \n",
        "new_df = apple_quote.filter(['Close'])\n",
        "#Get the last 60 day closing price values & convert df to array \n",
        "last_60_days = new_df[-60:].values\n",
        "#scale the data to be between 0 and 1\n",
        "last_60_days_scaled = scaler.transform(last_60_days)\n",
        "#Create an empty list \n",
        "X_test = []\n",
        "#Append the past 60 days\n",
        "X_test.append(last_60_days_scaled)\n",
        "#convert the X_test data set to a numpy array \n",
        "X_test = np.array(X_test)\n",
        "#Reshape the data \n",
        "X_test = np.reshape(X_test, (X_test.shape[0], X_test.shape[1], 1))\n",
        "#Get predicted scale price \n",
        "pred_price = model.predict(X_test)\n",
        "#undo the scaling \n",
        "pred_price = scaler.inverse_transform(pred_price)\n",
        "print(pred_price)\n",
        "\n",
        "## should be getting predicted price for 2021-06-13"
      ],
      "execution_count": 66,
      "outputs": [
        {
          "output_type": "error",
          "ename": "SyntaxError",
          "evalue": "ignored",
          "traceback": [
            "\u001b[0;36m  File \u001b[0;32m\"<ipython-input-66-58859c6ebbec>\"\u001b[0;36m, line \u001b[0;32m9\u001b[0m\n\u001b[0;31m    last_60_days = new_df[-60:].values\u001b[0m\n\u001b[0m               ^\u001b[0m\n\u001b[0;31mSyntaxError\u001b[0m\u001b[0;31m:\u001b[0m invalid syntax\n"
          ]
        }
      ]
    }
  ]
}